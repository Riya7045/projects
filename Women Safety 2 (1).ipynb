{
 "cells": [
  {
   "cell_type": "code",
   "execution_count": 395,
   "id": "426d5120-236c-4197-9082-3ac04c60ba97",
   "metadata": {},
   "outputs": [],
   "source": [
    "import pandas as pd\n",
    "import numpy as np\n",
    "from sklearn.model_selection import train_test_split\n",
    "from sklearn.preprocessing import LabelEncoder\n",
    "from sklearn.metrics import accuracy_score, confusion_matrix, classification_report\n",
    "from imblearn.over_sampling import SMOTE\n",
    "import matplotlib.pyplot as plt\n",
    "import seaborn as sns"
   ]
  },
  {
   "cell_type": "code",
   "execution_count": 397,
   "id": "3f149f47-6b6d-4ff4-b8c6-2329af5a111a",
   "metadata": {},
   "outputs": [],
   "source": [
    "# Load the data\n",
    "file_path = 'Sexual Harassment Data for Machine Learning Project (2).xlsx'\n",
    "data = pd.read_excel(file_path)"
   ]
  },
  {
   "cell_type": "code",
   "execution_count": 399,
   "id": "46f014fb-38ac-41f5-aaa8-b8a812c62234",
   "metadata": {},
   "outputs": [
    {
     "name": "stdout",
     "output_type": "stream",
     "text": [
      "Class Counts:\n",
      " Class\n",
      "Safe      134\n",
      "Unsafe     65\n",
      "Name: count, dtype: int64\n",
      "\n",
      "Class Percentages:\n",
      " Class\n",
      "Safe      67.336683\n",
      "Unsafe    32.663317\n",
      "Name: proportion, dtype: float64\n"
     ]
    },
    {
     "data": {
      "image/png": "[encoded data removed]",
      "text/plain": [
       "<Figure size 800x600 with 1 Axes>"
      ]
     },
     "metadata": {},
     "output_type": "display_data"
    }
   ],
   "source": [
    "# Check dataset balance\n",
    "class_counts = data['Class'].value_counts()\n",
    "class_percentages = data['Class'].value_counts(normalize=True) * 100\n",
    "\n",
    "print('Class Counts:\\n', class_counts)\n",
    "print('\\nClass Percentages:\\n', class_percentages)\n",
    "\n",
    "plt.figure(figsize=(8, 6))\n",
    "sns.countplot(x='Class', data=data)\n",
    "plt.xlabel('Class')\n",
    "plt.ylabel('Frequency')\n",
    "plt.title('Distribution of Classes')\n",
    "plt.show()"
   ]
  },
  {
   "cell_type": "code",
   "execution_count": 400,
   "id": "df65e05c-5625-4cb2-9814-a10821059aa1",
   "metadata": {},
   "outputs": [],
   "source": [
    "# Encode categorical variables\n",
    "label_encoders = {}\n",
    "for column in data.columns:\n",
    "    if data[column].dtype == 'object':\n",
    "        le = LabelEncoder()\n",
    "        data[column] = le.fit_transform(data[column])\n",
    "        label_encoders[column] = le"
   ]
  },
  {
   "cell_type": "code",
   "execution_count": 403,
   "id": "e5210613-eb86-4675-b6dc-3215f25cd94b",
   "metadata": {},
   "outputs": [
    {
     "name": "stdout",
     "output_type": "stream",
     "text": [
      "199\n"
     ]
    }
   ],
   "source": [
    "# Define features and target variable\n",
    "X = data.drop('Class', axis=1).values\n",
    "y = data['Class'].values\n",
    "print(len(X))"
   ]
  },
  {
   "cell_type": "code",
   "execution_count": 405,
   "id": "6e7c7bee-7b5d-4bcf-975f-e78058326252",
   "metadata": {},
   "outputs": [],
   "source": [
    "# Apply SMOTE to balance the dataset\n",
    "smote = SMOTE(random_state=0)\n",
    "X_resampled, y_resampled = smote.fit_resample(X, y)"
   ]
  },
  {
   "cell_type": "code",
   "execution_count": 407,
   "id": "056147ad-eae8-4a4f-8dfb-61075240fd0f",
   "metadata": {},
   "outputs": [],
   "source": [
    "# Convert y and y_resampled to pandas Series\n",
    "y_resampled_series = pd.Series(y_resampled)\n",
    "y_series = pd.Series(y)"
   ]
  },
  {
   "cell_type": "code",
   "execution_count": 409,
   "id": "10f6c2c4-af1a-4038-bfb9-f75f1e2ea747",
   "metadata": {},
   "outputs": [
    {
     "name": "stdout",
     "output_type": "stream",
     "text": [
      "Original dataset class distribution:\n",
      " 0    134\n",
      "1     65\n",
      "Name: count, dtype: int64\n",
      "Resampled dataset class distribution:\n",
      " 0    134\n",
      "1    134\n",
      "Name: count, dtype: int64\n"
     ]
    }
   ],
   "source": [
    "# Check the new class distribution\n",
    "print('Original dataset class distribution:\\n', y_series.value_counts())\n",
    "print('Resampled dataset class distribution:\\n', y_resampled_series.value_counts())"
   ]
  },
  {
   "cell_type": "code",
   "execution_count": 411,
   "id": "6a87c814-6cd9-4711-9ab1-4462e09f78bb",
   "metadata": {},
   "outputs": [],
   "source": [
    "# Split the data into training and testing sets\n",
    "X_train, X_test, y_train, y_test = train_test_split(X, y, test_size=0.2, random_state=0)"
   ]
  },
  {
   "cell_type": "code",
   "execution_count": 413,
   "id": "d190f668-2eaf-4e21-9f19-6ff38ea50b72",
   "metadata": {},
   "outputs": [],
   "source": [
    "# Add a bias term (column of ones) to the features\n",
    "X_train = np.hstack([np.ones((X_train.shape[0], 1)), X_train])\n",
    "X_test = np.hstack([np.ones((X_test.shape[0], 1)), X_test])"
   ]
  },
  {
   "cell_type": "code",
   "execution_count": 415,
   "id": "3d25969a-fcde-4984-9fba-d63c55528c8c",
   "metadata": {},
   "outputs": [],
   "source": [
    "# Initialize weights\n",
    "weights = np.zeros(X_train.shape[1])"
   ]
  },
  {
   "cell_type": "code",
   "execution_count": 417,
   "id": "3ca4f3c4-08fd-4487-8859-a4409a1e89f5",
   "metadata": {},
   "outputs": [],
   "source": [
    "# Sigmoid function\n",
    "def sigmoid(z):\n",
    "    return 1 / (1 + np.exp(-z))"
   ]
  },
  {
   "cell_type": "code",
   "execution_count": 419,
   "id": "b88473f6-5755-4a6a-a288-74a54b06eda7",
   "metadata": {},
   "outputs": [],
   "source": [
    "# Cost function (log loss)\n",
    "def cost_function(X, y, weights):\n",
    "    m = len(y)\n",
    "    h = sigmoid(np.dot(X, weights))\n",
    "    cost = (-1/m) * np.sum(y * np.log(h) + (1 - y) * np.log(1 - h))\n",
    "    return cost"
   ]
  },
  {
   "cell_type": "code",
   "execution_count": 421,
   "id": "60a3dcbd-0431-4cc1-93c5-55d66d5d182f",
   "metadata": {},
   "outputs": [],
   "source": [
    "# Gradient descent\n",
    "def gradient_descent(X, y, weights, learning_rate, iterations):\n",
    "    m = len(y)\n",
    "    cost_history = []\n",
    "    \n",
    "    for i in range(iterations):\n",
    "        h = sigmoid(np.dot(X, weights))\n",
    "        weights -= (learning_rate/m) * np.dot(X.T, (h - y))\n",
    "        cost = cost_function(X, y, weights)\n",
    "        cost_history.append(cost)\n",
    "    \n",
    "    return weights, cost_history"
   ]
  },
  {
   "cell_type": "code",
   "execution_count": 423,
   "id": "b46f0d59-08cf-4435-946f-7337a34674d8",
   "metadata": {},
   "outputs": [],
   "source": [
    "# Training the model\n",
    "learning_rate = 0.01\n",
    "iterations = 10000\n",
    "weights, cost_history = gradient_descent(X_train, y_train, weights, learning_rate, iterations)"
   ]
  },
  {
   "cell_type": "code",
   "execution_count": 424,
   "id": "191b9de9-0e50-4049-80ff-176025805bf3",
   "metadata": {},
   "outputs": [],
   "source": [
    "# Make predictions\n",
    "y_pred_prob = sigmoid(np.dot(X_test, weights))\n",
    "y_pred = [1 if prob >= 0.5 else 0 for prob in y_pred_prob]"
   ]
  },
  {
   "cell_type": "code",
   "execution_count": 427,
   "id": "a7846e19-d272-41d3-b5db-0035204f2441",
   "metadata": {},
   "outputs": [],
   "source": [
    "# Evaluate the model\n",
    "accuracy = accuracy_score(y_test, y_pred)\n",
    "report = classification_report(y_test, y_pred)"
   ]
  },
  {
   "cell_type": "code",
   "execution_count": 429,
   "id": "4413f7ec-8831-477f-8cf1-07eddbbb3a1b",
   "metadata": {},
   "outputs": [
    {
     "name": "stdout",
     "output_type": "stream",
     "text": [
      "Accuracy: 0.9\n",
      "Classification Report:\n",
      "              precision    recall  f1-score   support\n",
      "\n",
      "           0       0.96      0.89      0.92        27\n",
      "           1       0.80      0.92      0.86        13\n",
      "\n",
      "    accuracy                           0.90        40\n",
      "   macro avg       0.88      0.91      0.89        40\n",
      "weighted avg       0.91      0.90      0.90        40\n",
      "\n"
     ]
    }
   ],
   "source": [
    "print(f'Accuracy: {accuracy}')\n",
    "print(f'Classification Report:\\n{report}')"
   ]
  },
  {
   "cell_type": "code",
   "execution_count": 431,
   "id": "d938236b-dfcc-4ae9-810a-cc0f996db562",
   "metadata": {},
   "outputs": [],
   "source": [
    "# Calculate confusion matrix\n",
    "conf_matrix = confusion_matrix(y_test, y_pred)"
   ]
  },
  {
   "cell_type": "code",
   "execution_count": 433,
   "id": "b702528a-e863-4dfe-8331-29e748b6b8fc",
   "metadata": {},
   "outputs": [
    {
     "data": {
      "image/png": "[encoded data removed]",
      "text/plain": [
       "<Figure size 800x600 with 2 Axes>"
      ]
     },
     "metadata": {},
     "output_type": "display_data"
    }
   ],
   "source": [
    "# Plot confusion matrix\n",
    "plt.figure(figsize=(8, 6))\n",
    "sns.heatmap(conf_matrix, annot=True, fmt='d', cmap='Blues', xticklabels=label_encoders['Class'].classes_, yticklabels=label_encoders['Class'].classes_)\n",
    "plt.xlabel('Predicted')\n",
    "plt.ylabel('Actual')\n",
    "plt.title('Confusion Matrix')\n",
    "# plt.show()\n",
    "new_data = {\n",
    "    'Area': 'Ramapuram',\n",
    "    'Zone': 'Aanandam Nagar',\n",
    "    'Time': 'Morning',\n",
    "    'People.Frequency': 'Medium',\n",
    "    'Is.Police_Station': 'Yes',\n",
    "    'Is.Bar': 'No',\n",
    "    'Tier': 'Middle',\n",
    "    'Residence.Level': 'Medium'\n",
    "}"
   ]
  },
  {
   "cell_type": "code",
   "execution_count": 219,
   "id": "472fe88a-cea7-4d2e-a48d-5768dcfff276",
   "metadata": {},
   "outputs": [],
   "source": [
    "# Convert the input data to a DataFrame\n",
    "new_data_df = pd.DataFrame([new_data])"
   ]
  },
  {
   "cell_type": "code",
   "execution_count": 221,
   "id": "5e800366-e577-4aea-a3e0-b8dede2978e5",
   "metadata": {},
   "outputs": [
    {
     "ename": "ValueError",
     "evalue": "y contains previously unseen labels: 'Urban'",
     "output_type": "error",
     "traceback": [
      "\u001b[1;31m---------------------------------------------------------------------------\u001b[0m",
      "\u001b[1;31mKeyError\u001b[0m                                  Traceback (most recent call last)",
      "File \u001b[1;32m~\\anaconda3\\Lib\\site-packages\\sklearn\\utils\\_encode.py:224\u001b[0m, in \u001b[0;36m_encode\u001b[1;34m(values, uniques, check_unknown)\u001b[0m\n\u001b[0;32m    223\u001b[0m \u001b[38;5;28;01mtry\u001b[39;00m:\n\u001b[1;32m--> 224\u001b[0m     \u001b[38;5;28;01mreturn\u001b[39;00m _map_to_integer(values, uniques)\n\u001b[0;32m    225\u001b[0m \u001b[38;5;28;01mexcept\u001b[39;00m \u001b[38;5;167;01mKeyError\u001b[39;00m \u001b[38;5;28;01mas\u001b[39;00m e:\n",
      "File \u001b[1;32m~\\anaconda3\\Lib\\site-packages\\sklearn\\utils\\_encode.py:164\u001b[0m, in \u001b[0;36m_map_to_integer\u001b[1;34m(values, uniques)\u001b[0m\n\u001b[0;32m    163\u001b[0m table \u001b[38;5;241m=\u001b[39m _nandict({val: i \u001b[38;5;28;01mfor\u001b[39;00m i, val \u001b[38;5;129;01min\u001b[39;00m \u001b[38;5;28menumerate\u001b[39m(uniques)})\n\u001b[1;32m--> 164\u001b[0m \u001b[38;5;28;01mreturn\u001b[39;00m np\u001b[38;5;241m.\u001b[39marray([table[v] \u001b[38;5;28;01mfor\u001b[39;00m v \u001b[38;5;129;01min\u001b[39;00m values])\n",
      "File \u001b[1;32m~\\anaconda3\\Lib\\site-packages\\sklearn\\utils\\_encode.py:164\u001b[0m, in \u001b[0;36m<listcomp>\u001b[1;34m(.0)\u001b[0m\n\u001b[0;32m    163\u001b[0m table \u001b[38;5;241m=\u001b[39m _nandict({val: i \u001b[38;5;28;01mfor\u001b[39;00m i, val \u001b[38;5;129;01min\u001b[39;00m \u001b[38;5;28menumerate\u001b[39m(uniques)})\n\u001b[1;32m--> 164\u001b[0m \u001b[38;5;28;01mreturn\u001b[39;00m np\u001b[38;5;241m.\u001b[39marray([table[v] \u001b[38;5;28;01mfor\u001b[39;00m v \u001b[38;5;129;01min\u001b[39;00m values])\n",
      "File \u001b[1;32m~\\anaconda3\\Lib\\site-packages\\sklearn\\utils\\_encode.py:158\u001b[0m, in \u001b[0;36m_nandict.__missing__\u001b[1;34m(self, key)\u001b[0m\n\u001b[0;32m    157\u001b[0m     \u001b[38;5;28;01mreturn\u001b[39;00m \u001b[38;5;28mself\u001b[39m\u001b[38;5;241m.\u001b[39mnan_value\n\u001b[1;32m--> 158\u001b[0m \u001b[38;5;28;01mraise\u001b[39;00m \u001b[38;5;167;01mKeyError\u001b[39;00m(key)\n",
      "\u001b[1;31mKeyError\u001b[0m: 'Urban'",
      "\nDuring handling of the above exception, another exception occurred:\n",
      "\u001b[1;31mValueError\u001b[0m                                Traceback (most recent call last)",
      "Cell \u001b[1;32mIn[221], line 4\u001b[0m\n\u001b[0;32m      2\u001b[0m \u001b[38;5;28;01mfor\u001b[39;00m column \u001b[38;5;129;01min\u001b[39;00m new_data_df\u001b[38;5;241m.\u001b[39mcolumns:\n\u001b[0;32m      3\u001b[0m     \u001b[38;5;28;01mif\u001b[39;00m column \u001b[38;5;129;01min\u001b[39;00m label_encoders:\n\u001b[1;32m----> 4\u001b[0m         new_data_df[column] \u001b[38;5;241m=\u001b[39m label_encoders[column]\u001b[38;5;241m.\u001b[39mtransform(new_data_df[column])\n",
      "File \u001b[1;32m~\\anaconda3\\Lib\\site-packages\\sklearn\\utils\\_set_output.py:140\u001b[0m, in \u001b[0;36m_wrap_method_output.<locals>.wrapped\u001b[1;34m(self, X, *args, **kwargs)\u001b[0m\n\u001b[0;32m    138\u001b[0m \u001b[38;5;129m@wraps\u001b[39m(f)\n\u001b[0;32m    139\u001b[0m \u001b[38;5;28;01mdef\u001b[39;00m \u001b[38;5;21mwrapped\u001b[39m(\u001b[38;5;28mself\u001b[39m, X, \u001b[38;5;241m*\u001b[39margs, \u001b[38;5;241m*\u001b[39m\u001b[38;5;241m*\u001b[39mkwargs):\n\u001b[1;32m--> 140\u001b[0m     data_to_wrap \u001b[38;5;241m=\u001b[39m f(\u001b[38;5;28mself\u001b[39m, X, \u001b[38;5;241m*\u001b[39margs, \u001b[38;5;241m*\u001b[39m\u001b[38;5;241m*\u001b[39mkwargs)\n\u001b[0;32m    141\u001b[0m     \u001b[38;5;28;01mif\u001b[39;00m \u001b[38;5;28misinstance\u001b[39m(data_to_wrap, \u001b[38;5;28mtuple\u001b[39m):\n\u001b[0;32m    142\u001b[0m         \u001b[38;5;66;03m# only wrap the first output for cross decomposition\u001b[39;00m\n\u001b[0;32m    143\u001b[0m         \u001b[38;5;28;01mreturn\u001b[39;00m (\n\u001b[0;32m    144\u001b[0m             _wrap_data_with_container(method, data_to_wrap[\u001b[38;5;241m0\u001b[39m], X, \u001b[38;5;28mself\u001b[39m),\n\u001b[0;32m    145\u001b[0m             \u001b[38;5;241m*\u001b[39mdata_to_wrap[\u001b[38;5;241m1\u001b[39m:],\n\u001b[0;32m    146\u001b[0m         )\n",
      "File \u001b[1;32m~\\anaconda3\\Lib\\site-packages\\sklearn\\preprocessing\\_label.py:139\u001b[0m, in \u001b[0;36mLabelEncoder.transform\u001b[1;34m(self, y)\u001b[0m\n\u001b[0;32m    136\u001b[0m \u001b[38;5;28;01mif\u001b[39;00m _num_samples(y) \u001b[38;5;241m==\u001b[39m \u001b[38;5;241m0\u001b[39m:\n\u001b[0;32m    137\u001b[0m     \u001b[38;5;28;01mreturn\u001b[39;00m np\u001b[38;5;241m.\u001b[39marray([])\n\u001b[1;32m--> 139\u001b[0m \u001b[38;5;28;01mreturn\u001b[39;00m _encode(y, uniques\u001b[38;5;241m=\u001b[39m\u001b[38;5;28mself\u001b[39m\u001b[38;5;241m.\u001b[39mclasses_)\n",
      "File \u001b[1;32m~\\anaconda3\\Lib\\site-packages\\sklearn\\utils\\_encode.py:226\u001b[0m, in \u001b[0;36m_encode\u001b[1;34m(values, uniques, check_unknown)\u001b[0m\n\u001b[0;32m    224\u001b[0m         \u001b[38;5;28;01mreturn\u001b[39;00m _map_to_integer(values, uniques)\n\u001b[0;32m    225\u001b[0m     \u001b[38;5;28;01mexcept\u001b[39;00m \u001b[38;5;167;01mKeyError\u001b[39;00m \u001b[38;5;28;01mas\u001b[39;00m e:\n\u001b[1;32m--> 226\u001b[0m         \u001b[38;5;28;01mraise\u001b[39;00m \u001b[38;5;167;01mValueError\u001b[39;00m(\u001b[38;5;124mf\u001b[39m\u001b[38;5;124m\"\u001b[39m\u001b[38;5;124my contains previously unseen labels: \u001b[39m\u001b[38;5;132;01m{\u001b[39;00m\u001b[38;5;28mstr\u001b[39m(e)\u001b[38;5;132;01m}\u001b[39;00m\u001b[38;5;124m\"\u001b[39m)\n\u001b[0;32m    227\u001b[0m \u001b[38;5;28;01melse\u001b[39;00m:\n\u001b[0;32m    228\u001b[0m     \u001b[38;5;28;01mif\u001b[39;00m check_unknown:\n",
      "\u001b[1;31mValueError\u001b[0m: y contains previously unseen labels: 'Urban'"
     ]
    }
   ],
   "source": [
    "# Encode the categorical variables using the existing label encoders\n",
    "for column in new_data_df.columns:\n",
    "    if column in label_encoders:\n",
    "        new_data_df[column] = label_encoders[column].transform(new_data_df[column])"
   ]
  },
  {
   "cell_type": "code",
   "execution_count": null,
   "id": "bbe05c64-de35-45ab-9116-cbe7c8846f06",
   "metadata": {},
   "outputs": [],
   "source": [
    "# Add a bias term (column of ones)\n",
    "new_data_with_bias = np.hstack([np.ones((new_data_df.shape[0], 1)), new_data_df.values])"
   ]
  },
  {
   "cell_type": "code",
   "execution_count": 95,
   "id": "d9160c10-9088-4a79-8f98-e98d49f50547",
   "metadata": {},
   "outputs": [],
   "source": [
    "# Predict the probability\n",
    "new_pred_prob = sigmoid(np.dot(new_data_with_bias, weights))"
   ]
  },
  {
   "cell_type": "code",
   "execution_count": 97,
   "id": "0768122d-80c8-465e-939f-d89cd0f4e58b",
   "metadata": {},
   "outputs": [],
   "source": [
    "# Predict the class (0 or 1)\n",
    "new_pred_class = 1 if new_pred_prob >= 0.5 else 0"
   ]
  },
  {
   "cell_type": "code",
   "execution_count": 99,
   "id": "3ca1c8ef-daa7-4a71-b21b-385ee0952478",
   "metadata": {},
   "outputs": [
    {
     "name": "stdout",
     "output_type": "stream",
     "text": [
      "Safe\n"
     ]
    }
   ],
   "source": [
    "# Map the prediction back to the original class labels\n",
    "predicted_label = label_encoders['Class'].inverse_transform([new_pred_class])[0]\n",
    "predicted_label = label_encoders['Class'].inverse_transform([1 if sigmoid(np.dot(new_data_with_bias, weights)) >= 0.5 else 0])[0]\n",
    "print(predicted_label)"
   ]
  },
  {
   "cell_type": "code",
   "execution_count": null,
   "id": "0c6cfc05-f360-40de-8c2f-2864d2c7f192",
   "metadata": {},
   "outputs": [],
   "source": []
  }
 ],
 "metadata": {
  "kernelspec": {
   "display_name": "Python 3 (ipykernel)",
   "language": "python",
   "name": "python3"
  },
  "language_info": {
   "codemirror_mode": {
    "name": "ipython",
    "version": 3
   },
   "file_extension": ".py",
   "mimetype": "text/x-python",
   "name": "python",
   "nbconvert_exporter": "python",
   "pygments_lexer": "ipython3",
   "version": "3.11.7"
  }
 },
 "nbformat": 4,
 "nbformat_minor": 5
}
